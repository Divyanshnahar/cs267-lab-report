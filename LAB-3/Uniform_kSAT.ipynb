{
  "cells": [
    {
      "cell_type": "code",
      "execution_count": 1,
      "metadata": {
        "id": "-X0UbHI-07XW"
      },
      "outputs": [],
      "source": [
        "import random"
      ]
    },
    {
      "cell_type": "code",
      "execution_count": 2,
      "metadata": {
        "id": "OFx7GXdC1QGH"
      },
      "outputs": [],
      "source": [
        "def generateInstance(n, k, m):\n",
        "\n",
        "  vars = []\n",
        "  for i in range(n):\n",
        "    vars.append((chr(i + 65)))\n",
        "\n",
        "  problem = \"((\"\n",
        "  clause = []\n",
        "\n",
        "  for i in range(k * m):\n",
        "\n",
        "    x = random.choice(vars)\n",
        "    vars.remove(x)\n",
        "    clause.append(x)\n",
        "\n",
        "    if(i % k == k - 1):\n",
        "      while len(clause) != 0:\n",
        "        vars.append(clause.pop(0))\n",
        "\n",
        "    y = random.random()\n",
        "    if y < 0.5:\n",
        "      problem += \"~\"\n",
        "    \n",
        "    problem += x\n",
        "\n",
        "    if i % k == k - 1 and i != (k * m - 1):\n",
        "      problem += \") and (\"\n",
        "    elif i != (k * m - 1):\n",
        "      problem += \" or \"\n",
        "  \n",
        "  problem += \"))\"\n",
        "      \n",
        "  return problem"
      ]
    },
    {
      "cell_type": "code",
      "execution_count": 3,
      "metadata": {
        "colab": {
          "base_uri": "https://localhost:8080/"
        },
        "id": "_0btPkRh22w2",
        "outputId": "ca268cc6-a03e-4a3d-cfef-a99dc97777af"
      },
      "outputs": [
        {
          "name": "stdout",
          "output_type": "stream",
          "text": [
            "Problem  1 :  ((K or ~E or C) and (A or E or C) and (J or ~C or ~H) and (~D or C or ~J))\n",
            "Problem  2 :  ((H or ~C or A) and (D or ~C or J) and (~C or ~D or A) and (I or ~G or ~K))\n",
            "Problem  3 :  ((I or E or ~G) and (K or ~C or ~G) and (K or ~G or ~H) and (~K or ~A or D))\n",
            "Problem  4 :  ((~A or G or C) and (I or ~F or ~H) and (~J or L or ~E) and (G or ~J or B))\n",
            "Problem  5 :  ((J or ~B or H) and (~F or ~J or K) and (~K or C or J) and (F or C or K))\n",
            "Problem  6 :  ((~I or H or ~A) and (E or ~K or ~B) and (~J or ~B or D) and (E or A or ~G))\n",
            "Problem  7 :  ((~A or D or G) and (~L or ~D or C) and (~J or E or F) and (B or ~E or ~A))\n",
            "Problem  8 :  ((C or ~I or ~J) and (E or D or ~H) and (J or ~A or I) and (~J or ~A or ~B))\n",
            "Problem  9 :  ((~E or H or K) and (L or D or H) and (~H or C or I) and (~K or A or ~J))\n",
            "Problem  10 :  ((~I or K or G) and (~I or ~E or H) and (H or F or C) and (~I or ~J or ~F))\n"
          ]
        }
      ],
      "source": [
        "for i in range(10):\n",
        "  print(\"Problem \", i+1, \": \", generateInstance(12, 3, 4))\n"
      ]
    },
    {
      "cell_type": "code",
      "execution_count": null,
      "metadata": {},
      "outputs": [],
      "source": []
    }
  ],
  "metadata": {
    "colab": {
      "authorship_tag": "ABX9TyOLBM3z1KvkxSuYGd8RvD9R",
      "include_colab_link": true,
      "provenance": []
    },
    "kernelspec": {
      "display_name": "Python 3",
      "language": "python",
      "name": "python3"
    },
    "language_info": {
      "codemirror_mode": {
        "name": "ipython",
        "version": 3
      },
      "file_extension": ".py",
      "mimetype": "text/x-python",
      "name": "python",
      "nbconvert_exporter": "python",
      "pygments_lexer": "ipython3",
      "version": "3.12.4"
    }
  },
  "nbformat": 4,
  "nbformat_minor": 0
}
